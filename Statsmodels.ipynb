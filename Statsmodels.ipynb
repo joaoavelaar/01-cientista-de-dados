{
  "nbformat": 4,
  "nbformat_minor": 0,
  "metadata": {
    "colab": {
      "provenance": [],
      "authorship_tag": "ABX9TyPh+9UuQGC3deEHqdDpRuH/",
      "include_colab_link": true
    },
    "kernelspec": {
      "name": "python3",
      "display_name": "Python 3"
    },
    "language_info": {
      "name": "python"
    }
  },
  "cells": [
    {
      "cell_type": "markdown",
      "metadata": {
        "id": "view-in-github",
        "colab_type": "text"
      },
      "source": [
        "<a href=\"https://colab.research.google.com/github/joaoavelaar/machine-learning/blob/main/Statsmodels.ipynb\" target=\"_parent\"><img src=\"https://colab.research.google.com/assets/colab-badge.svg\" alt=\"Open In Colab\"/></a>"
      ]
    },
    {
      "cell_type": "code",
      "execution_count": null,
      "metadata": {
        "id": "DOmAHgiFXubu"
      },
      "outputs": [],
      "source": [
        "#João Avelar\n",
        "# Para visualização de gráficos\n",
        "%matplotlib inline\n",
        "from pylab import *"
      ]
    },
    {
      "cell_type": "code",
      "source": [
        "import numpy as np\n",
        "import pandas as pd\n",
        "import statsmodels.api as sm\n",
        "from statsmodels.sandbox.regression.predstd import wls_prediction_std\n",
        "np.random.seed(9876789)"
      ],
      "metadata": {
        "id": "s4RZ6mwrX0xK"
      },
      "execution_count": null,
      "outputs": []
    },
    {
      "cell_type": "code",
      "source": [
        "# Criando dados artificiais\n",
        "nsample = 100\n",
        "x = np.linspace(0, 9, 100)\n",
        "X = np.column_stack((x, x**2))\n",
        "beta = np.array([1, 0.1, 10])\n",
        "e = np.random.normal(size=nsample)"
      ],
      "metadata": {
        "id": "GlRSj1VGX2xM"
      },
      "execution_count": null,
      "outputs": []
    },
    {
      "cell_type": "code",
      "source": [
        "X = sm.add_constant(X)\n",
        "y = np.dot(X, beta) + e"
      ],
      "metadata": {
        "id": "JvR_fk4HX5D_"
      },
      "execution_count": null,
      "outputs": []
    },
    {
      "cell_type": "code",
      "source": [
        "model = sm.OLS(y, X)\n",
        "results = model.fit()\n",
        "print(results.summary())"
      ],
      "metadata": {
        "colab": {
          "base_uri": "https://localhost:8080/"
        },
        "id": "LKTJFggPX8aU",
        "outputId": "3e2599d6-7d70-40d8-a48e-0b6ebccf5640"
      },
      "execution_count": null,
      "outputs": [
        {
          "output_type": "stream",
          "name": "stdout",
          "text": [
            "                            OLS Regression Results                            \n",
            "==============================================================================\n",
            "Dep. Variable:                      y   R-squared:                       1.000\n",
            "Model:                            OLS   Adj. R-squared:                  1.000\n",
            "Method:                 Least Squares   F-statistic:                 3.335e+06\n",
            "Date:                Fri, 16 Jun 2023   Prob (F-statistic):          2.43e-235\n",
            "Time:                        18:03:09   Log-Likelihood:                -134.79\n",
            "No. Observations:                 100   AIC:                             275.6\n",
            "Df Residuals:                      97   BIC:                             283.4\n",
            "Df Model:                           2                                         \n",
            "Covariance Type:            nonrobust                                         \n",
            "==============================================================================\n",
            "                 coef    std err          t      P>|t|      [0.025      0.975]\n",
            "------------------------------------------------------------------------------\n",
            "const          1.1876      0.278      4.270      0.000       0.636       1.740\n",
            "x1             0.0639      0.143      0.447      0.656      -0.220       0.347\n",
            "x2            10.0011      0.015    651.242      0.000       9.971      10.032\n",
            "==============================================================================\n",
            "Omnibus:                        0.629   Durbin-Watson:                   2.451\n",
            "Prob(Omnibus):                  0.730   Jarque-Bera (JB):                0.766\n",
            "Skew:                          -0.151   Prob(JB):                        0.682\n",
            "Kurtosis:                       2.696   Cond. No.                         119.\n",
            "==============================================================================\n",
            "\n",
            "Notes:\n",
            "[1] Standard Errors assume that the covariance matrix of the errors is correctly specified.\n"
          ]
        }
      ]
    },
    {
      "cell_type": "code",
      "source": [
        "print('Parameters: ', results.params)\n",
        "print('R2: ', results.rsquared)"
      ],
      "metadata": {
        "colab": {
          "base_uri": "https://localhost:8080/"
        },
        "id": "tCmFf07mX9uh",
        "outputId": "f19c509e-0632-4dde-f2e6-59bd96d0f33c"
      },
      "execution_count": null,
      "outputs": [
        {
          "output_type": "stream",
          "name": "stdout",
          "text": [
            "Parameters:  [ 1.1875799   0.06390394 10.00107688]\n",
            "R2:  0.9999854588412793\n"
          ]
        }
      ]
    },
    {
      "cell_type": "code",
      "source": [
        "nsample = 50\n",
        "sig = 0.5\n",
        "x = np.linspace(0, 20, nsample)\n",
        "X = np.column_stack((x, np.sin(x), (x-5)**2, np.ones(nsample)))\n",
        "beta = [0.5, 0.5, -0.02, 5.]\n",
        "\n",
        "y_true = np.dot(X, beta)\n",
        "y = y_true + sig * np.random.normal(size=nsample)\n",
        "\n",
        "res = sm.OLS(y, X).fit()\n",
        "print(res.summary())"
      ],
      "metadata": {
        "colab": {
          "base_uri": "https://localhost:8080/"
        },
        "id": "d33q5UbyZRq7",
        "outputId": "3a4cedfa-b830-465b-c950-141bb0a4011a"
      },
      "execution_count": null,
      "outputs": [
        {
          "output_type": "stream",
          "name": "stdout",
          "text": [
            "                            OLS Regression Results                            \n",
            "==============================================================================\n",
            "Dep. Variable:                      y   R-squared:                       0.938\n",
            "Model:                            OLS   Adj. R-squared:                  0.934\n",
            "Method:                 Least Squares   F-statistic:                     232.2\n",
            "Date:                Fri, 16 Jun 2023   Prob (F-statistic):           8.80e-28\n",
            "Time:                        18:11:59   Log-Likelihood:                -34.271\n",
            "No. Observations:                  50   AIC:                             76.54\n",
            "Df Residuals:                      46   BIC:                             84.19\n",
            "Df Model:                           3                                         \n",
            "Covariance Type:            nonrobust                                         \n",
            "==============================================================================\n",
            "                 coef    std err          t      P>|t|      [0.025      0.975]\n",
            "------------------------------------------------------------------------------\n",
            "x1             0.5233      0.026     19.886      0.000       0.470       0.576\n",
            "x2             0.3745      0.103      3.620      0.001       0.166       0.583\n",
            "x3            -0.0223      0.002     -9.669      0.000      -0.027      -0.018\n",
            "const          4.9109      0.171     28.778      0.000       4.567       5.254\n",
            "==============================================================================\n",
            "Omnibus:                        0.464   Durbin-Watson:                   2.618\n",
            "Prob(Omnibus):                  0.793   Jarque-Bera (JB):                0.616\n",
            "Skew:                          -0.128   Prob(JB):                        0.735\n",
            "Kurtosis:                       2.520   Cond. No.                         221.\n",
            "==============================================================================\n",
            "\n",
            "Notes:\n",
            "[1] Standard Errors assume that the covariance matrix of the errors is correctly specified.\n"
          ]
        }
      ]
    },
    {
      "cell_type": "code",
      "source": [
        "print('Parameters: ', res.params)\n",
        "print('Standard errors: ', res.bse)\n",
        "print('Predicted values: ', res.predict())"
      ],
      "metadata": {
        "colab": {
          "base_uri": "https://localhost:8080/"
        },
        "id": "D0yv0yCdaCb3",
        "outputId": "2f748b56-698f-47d2-812c-052e96fc10e6"
      },
      "execution_count": null,
      "outputs": [
        {
          "output_type": "stream",
          "name": "stdout",
          "text": [
            "Parameters:  [ 0.52334809  0.37447144 -0.0223435   4.91092107]\n",
            "Standard errors:  [0.02631805 0.10345934 0.00231074 0.17064722]\n",
            "Predicted values:  [ 4.35233362  4.80205743  5.21991591  5.5855007   5.8857687   6.11718504\n",
            "  6.28630383  6.40869134  6.5063685   6.60419295  6.72577498  6.88959841\n",
            "  7.1059838   7.37539275  7.68835211  8.02701036  8.36807059  8.6866181\n",
            "  8.96021381  9.17258095  9.31627929  9.39392752  9.41777306  9.40767978\n",
            "  9.38786447  9.38291808  9.41376548  9.49422757  9.62875055  9.81167543\n",
            " 10.02816778 10.25665496 10.47237048 10.65142305 10.77472185 10.83111309\n",
            " 10.81921257 10.74763307 10.63356931 10.49997292 10.37178152 10.27182158\n",
            " 10.21705804 10.21580708 10.26636975 10.35731113 10.46933904 10.57847369\n",
            " 10.6599875  10.69246777]\n"
          ]
        }
      ]
    },
    {
      "cell_type": "code",
      "source": [
        "prstd, iv_l, iv_u = wls_prediction_std(res)\n",
        "\n",
        "fig, ax = plt.subplots(figsize=(8,6))\n",
        "\n",
        "ax.plot(x, y, 'o', label=\"data\")\n",
        "ax.plot(x, y_true, 'b-', label=\"True\")\n",
        "ax.plot(x, res.fittedvalues, 'r--.', label=\"OLS\")\n",
        "ax.plot(x, iv_u, 'r--')\n",
        "ax.plot(x, iv_l, 'r--')\n",
        "ax.legend(loc='best')"
      ],
      "metadata": {
        "colab": {
          "base_uri": "https://localhost:8080/",
          "height": 523
        },
        "id": "mlvxYDkOaG9q",
        "outputId": "93c265f9-064b-4509-fdcf-1b62066331ce"
      },
      "execution_count": null,
      "outputs": [
        {
          "output_type": "execute_result",
          "data": {
            "text/plain": [
              "<matplotlib.legend.Legend at 0x7f297a1bfaf0>"
            ]
          },
          "metadata": {},
          "execution_count": 12
        },
        {
          "output_type": "display_data",
          "data": {
            "text/plain": [
              "<Figure size 800x600 with 1 Axes>"
            ],
            "image/png": "[encoded data removed]"
          },
          "metadata": {}
        }
      ]
    },
    {
      "cell_type": "code",
      "source": [
        "from statsmodels.tsa.arima_process import arma_generate_sample\n"
      ],
      "metadata": {
        "id": "JWYwLhiZaI_W"
      },
      "execution_count": null,
      "outputs": []
    },
    {
      "cell_type": "code",
      "source": [
        "# Gerando dados\n",
        "np.random.seed(12345)\n",
        "arparams = np.array([.75, -.25])\n",
        "maparams = np.array([.65, .35])"
      ],
      "metadata": {
        "id": "EwaTRzllaOIP"
      },
      "execution_count": null,
      "outputs": []
    },
    {
      "cell_type": "code",
      "source": [
        "# Parâmetros\n",
        "arparams = np.r_[1, -arparams]\n",
        "maparam = np.r_[1, maparams]\n",
        "nobs = 250\n",
        "y = arma_generate_sample(arparams, maparams, nobs)"
      ],
      "metadata": {
        "id": "oGg0Euy2aP4Q"
      },
      "execution_count": null,
      "outputs": []
    },
    {
      "cell_type": "code",
      "source": [],
      "metadata": {
        "id": "DlpQsrinaSGu"
      },
      "execution_count": null,
      "outputs": []
    },
    {
      "cell_type": "code",
      "source": [],
      "metadata": {
        "id": "_1vQMP_taUtP"
      },
      "execution_count": null,
      "outputs": []
    },
    {
      "cell_type": "code",
      "source": [],
      "metadata": {
        "id": "z06BZazGaWjf"
      },
      "execution_count": null,
      "outputs": []
    }
  ]
}