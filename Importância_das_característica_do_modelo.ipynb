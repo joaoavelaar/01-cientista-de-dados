{
  "nbformat": 4,
  "nbformat_minor": 0,
  "metadata": {
    "colab": {
      "provenance": [],
      "toc_visible": true,
      "authorship_tag": "ABX9TyOelPIhhGmr2r0CSnSmVoDy",
      "include_colab_link": true
    },
    "kernelspec": {
      "name": "python3",
      "display_name": "Python 3"
    },
    "language_info": {
      "name": "python"
    }
  },
  "cells": [
    {
      "cell_type": "markdown",
      "metadata": {
        "id": "view-in-github",
        "colab_type": "text"
      },
      "source": [
        "<a href=\"https://colab.research.google.com/github/joaoavelaar/machine-learning/blob/main/Import%C3%A2ncia_das_caracter%C3%ADstica_do_modelo.ipynb\" target=\"_parent\"><img src=\"https://colab.research.google.com/assets/colab-badge.svg\" alt=\"Open In Colab\"/></a>"
      ]
    },
    {
      "cell_type": "code",
      "execution_count": null,
      "metadata": {
        "id": "kwL8OqiWJnh1"
      },
      "outputs": [],
      "source": [
        "# Importância  das característica do modelo.\n",
        "# João Antônio Avelar Duarte.\n",
        "# Tarefa da Disciplina: Ciência de Dados."
      ]
    },
    {
      "cell_type": "code",
      "source": [
        "# Import das Bibliotecas de Ciência de Dados e ML\n",
        "import pandas as pd\n",
        "import numpy as np\n",
        "import matplotlib.pyplot as plt\n",
        "from sklearn.ensemble import ExtraTreesClassifier"
      ],
      "metadata": {
        "id": "rh12KbntKLuP"
      },
      "execution_count": null,
      "outputs": []
    },
    {
      "cell_type": "code",
      "source": [
        "# Carregando os dados da planilha para o dataframe chamado data.\n",
        "data = pd.read_csv(\"train.csv\")"
      ],
      "metadata": {
        "id": "zcgzSO4gK64_"
      },
      "execution_count": null,
      "outputs": []
    },
    {
      "cell_type": "code",
      "source": [
        "#Selecionando / separando as features de seleção x features de classificação.\n",
        "X = data.iloc[:,0:20]  #independent columns\n",
        "y = data.iloc[:,-1]    #target column i.e price range"
      ],
      "metadata": {
        "id": "BofG2uJhKMmW"
      },
      "execution_count": null,
      "outputs": []
    },
    {
      "cell_type": "code",
      "source": [
        "# Construindo modelo de machine learning com classe ExtraClassifier.\n",
        "model = ExtraTreesClassifier()\n",
        "model.fit(X,y)\n",
        "print(model.feature_importances_)\n",
        "\n",
        "#use inbuilt class feature_importances of tree based classifiers\n",
        "#plot graph of feature importances for better visualization\n",
        "\n",
        "\n"
      ],
      "metadata": {
        "colab": {
          "base_uri": "https://localhost:8080/"
        },
        "id": "vxzHmhPwK_EG",
        "outputId": "1fc320d8-c412-48cf-9059-f6f819c05ce9"
      },
      "execution_count": null,
      "outputs": [
        {
          "output_type": "stream",
          "name": "stdout",
          "text": [
            "[0.06125237 0.01870395 0.03301354 0.01959248 0.03185016 0.01758358\n",
            " 0.035496   0.0330095  0.03727629 0.03302313 0.03321479 0.0473475\n",
            " 0.04934252 0.39252611 0.03368171 0.03470484 0.0347955  0.01503512\n",
            " 0.019028   0.01952289]\n"
          ]
        }
      ]
    },
    {
      "cell_type": "code",
      "source": [
        "# Plotando gráfico e vendo as mais importantes.\n",
        "feat_importances = pd.Series(model.feature_importances_, index=X.columns)\n",
        "feat_importances.nlargest(10).plot(kind='barh')\n",
        "plt.show()"
      ],
      "metadata": {
        "colab": {
          "base_uri": "https://localhost:8080/",
          "height": 430
        },
        "id": "Vd9AsFYILZzP",
        "outputId": "00589f48-3615-416a-8e22-f2fee80b320d"
      },
      "execution_count": null,
      "outputs": [
        {
          "output_type": "display_data",
          "data": {
            "text/plain": [
              "<Figure size 640x480 with 1 Axes>"
            ],
            "image/png": "[encoded data removed]"
          },
          "metadata": {}
        }
      ]
    },
    {
      "cell_type": "code",
      "source": [],
      "metadata": {
        "id": "_PsA_CtDLu_l"
      },
      "execution_count": null,
      "outputs": []
    }
  ]
}